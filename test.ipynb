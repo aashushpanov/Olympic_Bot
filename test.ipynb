{
 "cells": [
  {
   "cell_type": "code",
   "execution_count": 1,
   "outputs": [],
   "source": [
    "import pygsheets\n",
    "from data import config\n",
    "import json"
   ],
   "metadata": {
    "collapsed": false,
    "pycharm": {
     "name": "#%%\n"
    }
   }
  },
  {
   "cell_type": "code",
   "execution_count": 2,
   "outputs": [],
   "source": [
    "key = json.loads(config.GOOGLE_WEB_CLIENT)\n",
    "gc = pygsheets.authorize(service_file='././olympicbot1210-c81dc6c184cb.json')"
   ],
   "metadata": {
    "collapsed": false,
    "pycharm": {
     "name": "#%%\n"
    }
   }
  },
  {
   "cell_type": "markdown",
   "source": [],
   "metadata": {
    "collapsed": false,
    "pycharm": {
     "name": "#%% md\n"
    }
   }
  },
  {
   "cell_type": "code",
   "execution_count": 3,
   "outputs": [],
   "source": [
    "sh = gc.create('файл класса')"
   ],
   "metadata": {
    "collapsed": false,
    "pycharm": {
     "name": "#%%\n"
    }
   }
  },
  {
   "cell_type": "code",
   "execution_count": 4,
   "outputs": [],
   "source": [
    "wks = sh.sheet1"
   ],
   "metadata": {
    "collapsed": false,
    "pycharm": {
     "name": "#%%\n"
    }
   }
  },
  {
   "cell_type": "code",
   "execution_count": 5,
   "outputs": [],
   "source": [
    "sh.share('000alex000004@gmail.com')"
   ],
   "metadata": {
    "collapsed": false,
    "pycharm": {
     "name": "#%%\n"
    }
   }
  },
  {
   "cell_type": "code",
   "execution_count": 6,
   "outputs": [],
   "source": [
    "from utils.db.get import get_all_olympiads_status"
   ],
   "metadata": {
    "collapsed": false,
    "pycharm": {
     "name": "#%%\n"
    }
   }
  },
  {
   "cell_type": "code",
   "execution_count": 7,
   "outputs": [],
   "source": [
    "olympiad_status = get_all_olympiads_status()"
   ],
   "metadata": {
    "collapsed": false,
    "pycharm": {
     "name": "#%%\n"
    }
   }
  },
  {
   "cell_type": "code",
   "execution_count": 8,
   "outputs": [],
   "source": [
    "wks.set_dataframe(olympiad_status, (1, 1))"
   ],
   "metadata": {
    "collapsed": false,
    "pycharm": {
     "name": "#%%\n"
    }
   }
  },
  {
   "cell_type": "code",
   "execution_count": 9,
   "outputs": [],
   "source": [
    "cell = pygsheets.cell.Cell('A1')\n",
    "cell.set_text_format('fontFamily', 'Montserrat')\n",
    "pygsheets.datarange.DataRange('A1', 'E1000', worksheet=wks).apply_format(cell)\n",
    "cell.color = (0.8, 0.7, 0.3, 1)\n",
    "cell.set_text_format('bold', True)\n",
    "cell.text_format['fontSize'] = 12\n",
    "pygsheets.datarange.DataRange('A1', 'E1', worksheet=wks).apply_format(cell)"
   ],
   "metadata": {
    "collapsed": false,
    "pycharm": {
     "name": "#%%\n"
    }
   }
  },
  {
   "cell_type": "markdown",
   "source": [],
   "metadata": {
    "collapsed": false,
    "pycharm": {
     "name": "#%% md\n"
    }
   }
  },
  {
   "cell_type": "code",
   "execution_count": 10,
   "outputs": [],
   "source": [
    "wks.adjust_column_width(start=5, pixel_size=250)\n",
    "wks.adjust_row_height(start=1)"
   ],
   "metadata": {
    "collapsed": false,
    "pycharm": {
     "name": "#%%\n"
    }
   }
  },
  {
   "cell_type": "code",
   "execution_count": 11,
   "outputs": [],
   "source": [
    "wks.frozen_rows = 1"
   ],
   "metadata": {
    "collapsed": false,
    "pycharm": {
     "name": "#%%\n"
    }
   }
  },
  {
   "cell_type": "code",
   "execution_count": 12,
   "outputs": [
    {
     "name": "stdout",
     "output_type": "stream",
     "text": [
      "cannot unpack non-iterable int object\n"
     ]
    }
   ],
   "source": [
    "from utils.db.get import get_users\n",
    "wks.clear()\n",
    "wks.set_dataframe(get_users(grades={9: 'A'}), (1, 1))"
   ],
   "metadata": {
    "collapsed": false,
    "pycharm": {
     "name": "#%%\n"
    }
   }
  },
  {
   "cell_type": "code",
   "execution_count": 13,
   "outputs": [
    {
     "data": {
      "text/plain": "'https://docs.google.com/spreadsheets/d/1rXngte_My9IshsuzV8S_nQhV5HviHJov62xU9K0Q3_E'"
     },
     "execution_count": 13,
     "metadata": {},
     "output_type": "execute_result"
    }
   ],
   "source": [
    "sh.url"
   ],
   "metadata": {
    "collapsed": false,
    "pycharm": {
     "name": "#%%\n"
    }
   }
  },
  {
   "cell_type": "code",
   "execution_count": 14,
   "outputs": [
    {
     "data": {
      "text/plain": "[{'id': '02335868168013585362',\n  'displayName': 'Алексей Шушпанов',\n  'type': 'user',\n  'kind': 'drive#permission',\n  'photoLink': 'https://lh3.googleusercontent.com/a-/AOh14GiJSoDBKjq1uFTZ8Dq8pZWqnt6EhNmSGP6iKmKRvg=s64',\n  'emailAddress': '000alex000004@gmail.com',\n  'role': 'reader',\n  'deleted': False,\n  'pendingOwner': False},\n {'id': '05217152751509713314',\n  'displayName': 'olympic-bot-1210@olympicbot1210.iam.gserviceaccount.com',\n  'type': 'user',\n  'kind': 'drive#permission',\n  'photoLink': 'https://lh3.googleusercontent.com/a/default-user=s64',\n  'emailAddress': 'olympic-bot-1210@olympicbot1210.iam.gserviceaccount.com',\n  'role': 'owner',\n  'deleted': False,\n  'pendingOwner': False}]"
     },
     "execution_count": 14,
     "metadata": {},
     "output_type": "execute_result"
    }
   ],
   "source": [
    "sh.permissions"
   ],
   "metadata": {
    "collapsed": false,
    "pycharm": {
     "name": "#%%\n"
    }
   }
  },
  {
   "cell_type": "code",
   "execution_count": null,
   "outputs": [],
   "source": [
    "sh.remo"
   ],
   "metadata": {
    "collapsed": false,
    "pycharm": {
     "name": "#%%\n"
    }
   }
  }
 ],
 "metadata": {
  "kernelspec": {
   "display_name": "Python 3",
   "language": "python",
   "name": "python3"
  },
  "language_info": {
   "codemirror_mode": {
    "name": "ipython",
    "version": 2
   },
   "file_extension": ".py",
   "mimetype": "text/x-python",
   "name": "python",
   "nbconvert_exporter": "python",
   "pygments_lexer": "ipython2",
   "version": "2.7.6"
  }
 },
 "nbformat": 4,
 "nbformat_minor": 0
}