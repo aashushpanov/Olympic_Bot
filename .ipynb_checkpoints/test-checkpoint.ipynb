{
 "cells": [
  {
   "cell_type": "code",
   "execution_count": 12,
   "metadata": {
    "pycharm": {
     "is_executing": true,
     "name": "#%%\n"
    }
   },
   "outputs": [],
   "source": [
    "def parsing_by_grade(message):\n",
    "    messages = message.split('\\n\\n')\n",
    "    message_by_grade = {}\n",
    "    for message in messages:\n",
    "        grades = message.split('\\n')[0][:-1]\n",
    "        if grades.__contains__(','):\n",
    "            grades = grades.split(',')\n",
    "        elif grades.__contains__('-'):\n",
    "            grades_borders = grades.split('-')\n",
    "            grades = [grade for grade in range(grades_borders[0], grades_borders[1])]\n",
    "        else:\n",
    "            grades = [grades]\n",
    "        print(grades)"
   ]
  },
  {
   "cell_type": "code",
   "execution_count": 13,
   "metadata": {
    "pycharm": {
     "name": "#%%\n"
    }
   },
   "outputs": [],
   "source": [
    "message = '''7:\n",
    "Объявление для 7-ых классов.\n",
    "\n",
    "8,9:\n",
    "Объявление для 8,9-ых классов.\n",
    "\n",
    "4-6:\n",
    "Объявление для 4,5,6-ых классов.\n",
    "'''\n"
   ]
  },
  {
   "cell_type": "code",
   "execution_count": 14,
   "metadata": {},
   "outputs": [
    {
     "ename": "AttributeError",
     "evalue": "'str' object has no attribute '__contanes__'",
     "output_type": "error",
     "traceback": [
      "\u001b[1;31m---------------------------------------------------------------------------\u001b[0m",
      "\u001b[1;31mAttributeError\u001b[0m                            Traceback (most recent call last)",
      "Input \u001b[1;32mIn [14]\u001b[0m, in \u001b[0;36m<cell line: 1>\u001b[1;34m()\u001b[0m\n\u001b[1;32m----> 1\u001b[0m \u001b[43mparsing_by_grade\u001b[49m\u001b[43m(\u001b[49m\u001b[43mmessage\u001b[49m\u001b[43m)\u001b[49m\n",
      "Input \u001b[1;32mIn [12]\u001b[0m, in \u001b[0;36mparsing_by_grade\u001b[1;34m(message)\u001b[0m\n\u001b[0;32m      6\u001b[0m \u001b[38;5;28;01mif\u001b[39;00m grades\u001b[38;5;241m.\u001b[39m\u001b[38;5;21m__contains__\u001b[39m(\u001b[38;5;124m'\u001b[39m\u001b[38;5;124m,\u001b[39m\u001b[38;5;124m'\u001b[39m):\n\u001b[0;32m      7\u001b[0m     grades \u001b[38;5;241m=\u001b[39m grades\u001b[38;5;241m.\u001b[39msplit(\u001b[38;5;124m'\u001b[39m\u001b[38;5;124m,\u001b[39m\u001b[38;5;124m'\u001b[39m)\n\u001b[1;32m----> 8\u001b[0m \u001b[38;5;28;01melif\u001b[39;00m \u001b[43mgrades\u001b[49m\u001b[38;5;241;43m.\u001b[39;49m\u001b[43m__contanes__\u001b[49m(\u001b[38;5;124m'\u001b[39m\u001b[38;5;124m-\u001b[39m\u001b[38;5;124m'\u001b[39m):\n\u001b[0;32m      9\u001b[0m     grades_borders \u001b[38;5;241m=\u001b[39m grades\u001b[38;5;241m.\u001b[39msplit(\u001b[38;5;124m'\u001b[39m\u001b[38;5;124m-\u001b[39m\u001b[38;5;124m'\u001b[39m)\n\u001b[0;32m     10\u001b[0m     grades \u001b[38;5;241m=\u001b[39m [grade \u001b[38;5;28;01mfor\u001b[39;00m grade \u001b[38;5;129;01min\u001b[39;00m \u001b[38;5;28mrange\u001b[39m(grades_borders[\u001b[38;5;241m0\u001b[39m], grades_borders[\u001b[38;5;241m1\u001b[39m])]\n",
      "\u001b[1;31mAttributeError\u001b[0m: 'str' object has no attribute '__contanes__'"
     ]
    }
   ],
   "source": [
    "parsing_by_grade(message)"
   ]
  },
  {
   "cell_type": "code",
   "execution_count": null,
   "metadata": {},
   "outputs": [],
   "source": []
  }
 ],
 "metadata": {
  "kernelspec": {
   "display_name": "Python 3 (ipykernel)",
   "language": "python",
   "name": "python3"
  },
  "language_info": {
   "codemirror_mode": {
    "name": "ipython",
    "version": 3
   },
   "file_extension": ".py",
   "mimetype": "text/x-python",
   "name": "python",
   "nbconvert_exporter": "python",
   "pygments_lexer": "ipython3",
   "version": "3.10.2"
  }
 },
 "nbformat": 4,
 "nbformat_minor": 1
}
